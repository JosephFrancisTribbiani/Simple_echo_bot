{
 "cells": [
  {
   "cell_type": "markdown",
   "metadata": {},
   "source": [
    "# Размещаем бота на HEROKU #"
   ]
  },
  {
   "cell_type": "markdown",
   "metadata": {},
   "source": [
    "Способов существует очень много. Здесь описан тот, который использовал я.\n",
    "\n",
    "Для начала нам необходимо установить ```heroku``` и ```git``` на ваш компьютер. Скачать можно по следующим ссылкам:\n",
    "\n",
    "https://devcenter.heroku.com/articles/heroku-cli\n",
    "\n",
    "https://git-scm.com/downloads"
   ]
  },
  {
   "cell_type": "markdown",
   "metadata": {},
   "source": [
    "Регистрируемся на https://signup.heroku.com/"
   ]
  },
  {
   "cell_type": "markdown",
   "metadata": {},
   "source": [
    "<img src='pic/1.png' width='400'>"
   ]
  },
  {
   "cell_type": "markdown",
   "metadata": {},
   "source": [
    "На почту приходит письмо с ссылкой для подтвержления. Переходим по ссылке и устанавливаем пароль для нашего аккаунта.\n",
    "\n",
    "Теперь можно переходить на https://dashboard.heroku.com/apps\n",
    "\n",
    "Теперь нам необходимо создать ```application```. Для этого нажимаем на ```create new app```"
   ]
  },
  {
   "cell_type": "markdown",
   "metadata": {},
   "source": [
    "<img src='pic/2.png' width='200'>"
   ]
  },
  {
   "cell_type": "markdown",
   "metadata": {},
   "source": [
    "Вводим название нашего приложения (придумываем сами). Выбираем регион (я выбираю Europe)"
   ]
  },
  {
   "cell_type": "markdown",
   "metadata": {},
   "source": [
    "<img src='pic/3.png' width=\"400\">"
   ]
  },
  {
   "cell_type": "markdown",
   "metadata": {},
   "source": [
    "Теперь собственно настало время создавать нашего бота. В качестве примера, я напишу бота, который на любое ваше сообщение будет отвечать \"Привет, я бот\".\n",
    "\n",
    "Существует два способа, как ваш бот может работать с ```Telegram```\n",
    "\n",
    "1. ```Long polling```. Это когда бот постоянно обращается на сервер телеграмма и спрашиват \"Телеграмм, есть ли для меня сообщения, или нет\". Если есть то выполняется код по обработке этих сообщений.\n",
    "\n",
    "2. ```Web Hook```. Здесь бот просто сидит и ждет, когда же ему телеграмм отправит сообщение.\n",
    "\n",
    "Напишем бота сначала на ```Long polling```, а затем перепишем его с использованием ```Web Hook```"
   ]
  },
  {
   "cell_type": "markdown",
   "metadata": {},
   "source": [
    "Для того, что бы бот успешно работал на ```heroku```, необходимо создать следующие файлы в директории с нашим проектом:\n",
    "\n",
    "**Первое** - файл ```requirements.txt```. Это обычный текстовый файл, в котором перечислены библиотеки (с указанием версии), которые нам потребуются. Heroku при установке нашего скрипта, установит эти библиотеки.\n",
    "\n",
    "Содержимое этого файла в нашем случае выглядит следующим образом:\n",
    "\n",
    "\n",
    "```\n",
    "pyTelegramBotAPI==3.7.3\n",
    "python-dotenv==0.15.0\n",
    "```"
   ]
  },
  {
   "cell_type": "markdown",
   "metadata": {},
   "source": [
    "Версии устанавливаемых библиотек можно посмотреть в консоли (cmd) с помощью команды ```pip freeze```"
   ]
  },
  {
   "cell_type": "markdown",
   "metadata": {},
   "source": [
    "<img src='pic/4.png' width='300'>"
   ]
  },
  {
   "cell_type": "markdown",
   "metadata": {},
   "source": [
    "**Второе** - файл ```Procfile```. Этот файл не должен иметь никакого расширения (например .txt). Здесь мы указываем следующее заклинание, которое говорит **Heroku, запусти скрипт main.py на python3**:\n",
    "\n",
    "```worker: python3 main.py```\n",
    "\n",
    ", где main.py - имя нашего скрипта\n",
    "\n",
    "Для того, что бы создать этот ```Procfile```, создаем в нашей директории с проектом бота обычный текстовый файлик. Называем его к примеру ```somehow.txt```. Пишем туда наше заклинание."
   ]
  },
  {
   "cell_type": "markdown",
   "metadata": {},
   "source": [
    "<img src='pic/5.png' width='500'>"
   ]
  },
  {
   "cell_type": "markdown",
   "metadata": {},
   "source": [
    "Теперь через командную строку переименовываем его из ```somehow.txt``` в ```Procfile```:\n",
    "\n",
    "* заходим в директорию, где лежит наш файлик ```somehow.txt``` через команду ```cd [путь]``` (у меня эта команда выглядит следующим образом ```cd C:\\Users\\alpex\\HSE_study\\Git\\Simple_echo_bot```)\n",
    "\n",
    "* вводим команду ```ren somehow.txt Procfile``` - переименовываем из *somehow.txt* в *Procfile*\n",
    "\n",
    "и вуаля"
   ]
  },
  {
   "cell_type": "markdown",
   "metadata": {},
   "source": [
    "<img src='pic/6.png' width='500'>"
   ]
  },
  {
   "cell_type": "markdown",
   "metadata": {},
   "source": [
    "**Третье** - теперь нам потребуется файлик ```.env```\n",
    "\n",
    "Обьясню зачем\n",
    "\n",
    "Вы своего бота будете заливать на Github, и что бы не держать TOKEN от вашего бота в коде, в Heroku есть возможно записать его в переменные окружения. По сути дела, это и есть файлик .env, в котором содержатся пара ключ - значение.\n",
    "\n",
    "На самом Heroku сделать это очень просто. На страничке вашего приложения на Heroku заходим в ```Sittings```, выбираем ```reveal config vars``` и в поле **key** вводим TOKEN, а в поле **value** собственно вводим значение нашего токена, который дал нам телеграмм."
   ]
  },
  {
   "cell_type": "markdown",
   "metadata": {},
   "source": [
    "<img src='pic/7.png' width='800'>"
   ]
  },
  {
   "cell_type": "markdown",
   "metadata": {},
   "source": [
    "Нажимаем кнопку ```add```"
   ]
  },
  {
   "cell_type": "markdown",
   "metadata": {},
   "source": [
    "Для того, что бы тестировать бота на нашем компьютере, нам тоже нужно создать аналогичный файл ```.env```.\n",
    "\n",
    "Создаем текстовый файл, например ```somehow.txt```, записываем туда наши переменные окружения (в нашем случае это TOKEN) в формате\n",
    "\n",
    "```\n",
    "KEY=VALUE\n",
    "```"
   ]
  },
  {
   "cell_type": "markdown",
   "metadata": {},
   "source": [
    "<img src='pic/8.png' width='500'>"
   ]
  },
  {
   "cell_type": "markdown",
   "metadata": {},
   "source": [
    "Переименовываем файл ```somehow.txt``` в ```.env``` точно также, как мы делали для ```Procfile```:\n",
    "\n",
    "вводим в командной строке ```ren somehow.txt .env```"
   ]
  },
  {
   "cell_type": "markdown",
   "metadata": {},
   "source": [
    "**ВАЖНО! перед тем, как заливать все файлы с ботом на GitHub, убедитесь что файл .env прописан в .gitignore**. Иначе ваш TOKEN будет видет всему интернету."
   ]
  },
  {
   "cell_type": "markdown",
   "metadata": {},
   "source": [
    "Собственно код, который содержится в ```main.py```\n",
    "\n",
    "```python\n",
    "import telebot\n",
    "from os import environ\n",
    "from dotenv import load_dotenv\n",
    "\n",
    "# загружаем переменные окружения из файла .env\n",
    "load_dotenv()\n",
    "TOKEN = environ.get('TOKEN')\n",
    "\n",
    "# создаем обьект bot\n",
    "bot = telebot.TeleBot(token=TOKEN)\n",
    "\n",
    "\n",
    "# обработчик сообщений, который на любое текстовое сообщение от пользователя\n",
    "# отвечает 'Привет, я бот'\n",
    "@bot.message_handler(content_types=[\"text\"])\n",
    "def say_hi(message):\n",
    "    bot.send_message(message.chat.id, 'Привет, я бот')\n",
    "\n",
    "\n",
    "# main функция с polling\n",
    "# наш бот постоянно бегает на сервер Telegram с вопросом \"Для меня есть сообщения?\"\n",
    "def main():\n",
    "    bot.polling(none_stop=True)\n",
    "\n",
    "\n",
    "if __name__ == '__main__':\n",
    "    main()\n",
    "\n",
    "```"
   ]
  },
  {
   "cell_type": "markdown",
   "metadata": {},
   "source": [
    "Теперь зальём нашего бота на GitHub:\n",
    "\n",
    "* В командной строке в папке с нашим ботом вводим ```git init```\n",
    "* В GitHub Desktop выбираем File -> Add local repository..\n",
    "* Выбираем папку с нашим ботом\n",
    "* Push-аем на GitHub\n",
    "\n",
    "Файлы бота появились на GitHub\n",
    "\n",
    "Теперь репозиторий на GitHub с ботом можно связать с Heroku app. Для этого:\n",
    "* Заходим на Heroku в наш созданный ранее application\n",
    "* Заходим во вкладку Deploy\n",
    "* В Deployment method выбираем GitHub\n",
    "* Connect to GitHub"
   ]
  },
  {
   "cell_type": "markdown",
   "metadata": {},
   "source": [
    "<img src='pic/9.png' width='800'>"
   ]
  },
  {
   "cell_type": "markdown",
   "metadata": {},
   "source": [
    "Чуть ниже включаем authomatic deploy. Теперь при обновлении файлов на GitHub, наш бот на Heroku также будет автоматически обновляться"
   ]
  },
  {
   "cell_type": "markdown",
   "metadata": {},
   "source": [
    "<img src='pic/10.png' width='800'>"
   ]
  },
  {
   "cell_type": "markdown",
   "metadata": {},
   "source": [
    "И еще чуть ниже запускаем первый Deploy нашего бота"
   ]
  },
  {
   "cell_type": "markdown",
   "metadata": {},
   "source": [
    "<img src='pic/11.png' width='800'>"
   ]
  },
  {
   "cell_type": "markdown",
   "metadata": {},
   "source": [
    "Должно появиться сообщение ```Your app was successfully deployed.```. Это значит, что наше приложение загружено на Heroku и готово к запуску."
   ]
  },
  {
   "cell_type": "markdown",
   "metadata": {},
   "source": [
    "Запускаем приложение:\n",
    "\n",
    "* Заходим во вкладку ```Resources```\n",
    "* Нажимаем на кнопку редактирования\n",
    "* Нажимаем на ползунок (что бы включить приложение, он должен оказаться справа)\n",
    "* Нажимаем ```confirm```\n"
   ]
  },
  {
   "cell_type": "markdown",
   "metadata": {},
   "source": [
    "<img src='pic/12.png' width='800'>"
   ]
  },
  {
   "cell_type": "markdown",
   "metadata": {},
   "source": [
    "<img src='pic/13.png' width='800'>"
   ]
  },
  {
   "cell_type": "markdown",
   "metadata": {},
   "source": [
    "Все, теперь бот работает на сервере Heroku"
   ]
  },
  {
   "cell_type": "markdown",
   "metadata": {},
   "source": [
    "### Настраиваем web hook ###"
   ]
  },
  {
   "cell_type": "markdown",
   "metadata": {},
   "source": [
    "Делать это будем с помощью библиотеки ```Flask```\n",
    "\n",
    "Добавляем ее в файлик ```requirements.txt```:\n",
    "\n",
    "```\n",
    "pyTelegramBotAPI==3.7.3\n",
    "python-dotenv==0.15.0\n",
    "Flask==1.1.2\n",
    "```"
   ]
  },
  {
   "cell_type": "markdown",
   "metadata": {},
   "source": [
    "В ```Procfile``` заменяем ```worker``` на ```web``` ибо согласно документации:\n",
    "\n",
    "```\n",
    "A Heroku app’s web process type is special: it’s the only process type that can receive external HTTP traffic from Heroku’s routers. If your app includes a web server, you should declare it as your app’s web process.\n",
    "```"
   ]
  },
  {
   "cell_type": "markdown",
   "metadata": {},
   "source": [
    "Теперь наше заклинание в Process файле выглядит следующим образом\n",
    "\n",
    "```web: python3 main.py```"
   ]
  },
  {
   "cell_type": "markdown",
   "metadata": {},
   "source": [
    "Меняем на код в ```main.py```"
   ]
  },
  {
   "cell_type": "markdown",
   "metadata": {},
   "source": [
    "```python\n",
    "import telebot\n",
    "from os import environ\n",
    "from dotenv import load_dotenv\n",
    "from flask import Flask, request\n",
    "\n",
    "# загружаем переменные окружения из файла .env\n",
    "load_dotenv()\n",
    "TOKEN = environ.get('TOKEN')\n",
    "PORT = int(environ.get('PORT', 5000))  # второе значение по умолчанию, если не будет найдено первое\n",
    "\n",
    "# создаем обьект bot и обьект server\n",
    "bot = telebot.TeleBot(token=TOKEN)\n",
    "server = Flask(__name__)\n",
    "\n",
    "\n",
    "# обработчик сообщений, который на любое текстовое сообщение от пользователя\n",
    "# отвечает 'Привет, я бот'\n",
    "@bot.message_handler(content_types=[\"text\"])\n",
    "def say_hi(message):\n",
    "    bot.send_message(message.chat.id, 'Привет, я бот')\n",
    "\n",
    "\n",
    "@server.route('/' + TOKEN, methods=['POST'])\n",
    "def getMessage():\n",
    "    bot.process_new_updates([telebot.types.Update.de_json(request.stream.read().decode(\"utf-8\"))])\n",
    "    return \"!\", 200\n",
    "\n",
    "\n",
    "@server.route(\"/\")\n",
    "def webhook():\n",
    "    bot.remove_webhook()\n",
    "    bot.set_webhook(url='https://test-app-hse.herokuapp.com/' + TOKEN)\n",
    "    return \"!\", 200\n",
    "# Обратите внимание, что значение url у вас будет своим. Обычно это в формате\n",
    "# https:// [имя вашего app на heroku] .herokuapp.com/ \n",
    "\n",
    "\n",
    "# main функция с Web Hook\n",
    "# наш бот смиренно ждет сообщение от Telegram\n",
    "def main():\n",
    "    server.run(host=\"0.0.0.0\", port=PORT)\n",
    "\n",
    "\n",
    "if __name__ == '__main__':\n",
    "    main()\n",
    "```"
   ]
  },
  {
   "cell_type": "markdown",
   "metadata": {},
   "source": [
    "В переменные окружения на Heroku добавляем переменную ```PORT``` (см. выше как я это делал для ```TOKEN```)\n",
    "\n",
    "Значения переменной ```PORT``` выбираем из списка портов: **443**, **80**, **88**, **8443**. Ибо согласно документации TelegramAPI:\n",
    "\n",
    "```Ports currently supported for Webhooks: 443, 80, 88, 8443```"
   ]
  },
  {
   "cell_type": "markdown",
   "metadata": {},
   "source": [
    "Заливаем все это на GitHub. Heroku должен обновить app автоматически.\n",
    "\n",
    "Запускаем ```web``` также как я делал для ```worker```"
   ]
  },
  {
   "cell_type": "code",
   "execution_count": null,
   "metadata": {},
   "outputs": [],
   "source": []
  }
 ],
 "metadata": {
  "kernelspec": {
   "display_name": "Python 3",
   "language": "python",
   "name": "python3"
  },
  "language_info": {
   "codemirror_mode": {
    "name": "ipython",
    "version": 3
   },
   "file_extension": ".py",
   "mimetype": "text/x-python",
   "name": "python",
   "nbconvert_exporter": "python",
   "pygments_lexer": "ipython3",
   "version": "3.8.3"
  }
 },
 "nbformat": 4,
 "nbformat_minor": 4
}
